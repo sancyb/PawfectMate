{
 "cells": [
  {
   "cell_type": "code",
   "execution_count": 1,
   "id": "12bdd84a",
   "metadata": {},
   "outputs": [
    {
     "data": {
      "text/plain": [
       "True"
      ]
     },
     "execution_count": 1,
     "metadata": {},
     "output_type": "execute_result"
    }
   ],
   "source": [
    "import minsearch\n",
    "import os\n",
    "import pandas as pd\n",
    "\n",
    "from dotenv import load_dotenv\n",
    "from openai import OpenAI\n",
    "\n",
    "load_dotenv()"
   ]
  },
  {
   "cell_type": "markdown",
   "id": "4c7c0aa2",
   "metadata": {},
   "source": [
    "### Ingestion"
   ]
  },
  {
   "cell_type": "code",
   "execution_count": 2,
   "id": "daf45164",
   "metadata": {},
   "outputs": [],
   "source": [
    "df = pd.read_csv('../data/rag_dataset.csv')"
   ]
  },
  {
   "cell_type": "code",
   "execution_count": 3,
   "id": "fc56d193",
   "metadata": {},
   "outputs": [
    {
     "data": {
      "text/html": [
       "<div>\n",
       "<style scoped>\n",
       "    .dataframe tbody tr th:only-of-type {\n",
       "        vertical-align: middle;\n",
       "    }\n",
       "\n",
       "    .dataframe tbody tr th {\n",
       "        vertical-align: top;\n",
       "    }\n",
       "\n",
       "    .dataframe thead th {\n",
       "        text-align: right;\n",
       "    }\n",
       "</style>\n",
       "<table border=\"1\" class=\"dataframe\">\n",
       "  <thead>\n",
       "    <tr style=\"text-align: right;\">\n",
       "      <th></th>\n",
       "      <th>id</th>\n",
       "      <th>breed_name</th>\n",
       "      <th>history</th>\n",
       "      <th>health</th>\n",
       "      <th>description</th>\n",
       "      <th>characteristics</th>\n",
       "      <th>appearance</th>\n",
       "      <th>temperament</th>\n",
       "    </tr>\n",
       "  </thead>\n",
       "  <tbody>\n",
       "    <tr>\n",
       "      <th>0</th>\n",
       "      <td>0</td>\n",
       "      <td>Affenpinscher</td>\n",
       "      <td>The word 'Affenpinscher' derives from Affe, Ge...</td>\n",
       "      <td>A UK study found a life expectancy of 9.3 year...</td>\n",
       "      <td>The Affenpinscher generally weighs 4–6 kg (9–1...</td>\n",
       "      <td>NaN</td>\n",
       "      <td>NaN</td>\n",
       "      <td>NaN</td>\n",
       "    </tr>\n",
       "    <tr>\n",
       "      <th>1</th>\n",
       "      <td>1</td>\n",
       "      <td>Afghan Hound</td>\n",
       "      <td>The Afghan Hound has been identified as a basa...</td>\n",
       "      <td>NaN</td>\n",
       "      <td>The dogs in this breed occur in many different...</td>\n",
       "      <td>NaN</td>\n",
       "      <td>NaN</td>\n",
       "      <td>NaN</td>\n",
       "    </tr>\n",
       "    <tr>\n",
       "      <th>2</th>\n",
       "      <td>2</td>\n",
       "      <td>Aidi</td>\n",
       "      <td>The Aidi is a breed native to the Atlas Mounta...</td>\n",
       "      <td>NaN</td>\n",
       "      <td>NaN</td>\n",
       "      <td>NaN</td>\n",
       "      <td>Standing 52–62 cm (20–24 in) in height and wei...</td>\n",
       "      <td>NaN</td>\n",
       "    </tr>\n",
       "    <tr>\n",
       "      <th>3</th>\n",
       "      <td>3</td>\n",
       "      <td>Airedale Terrier</td>\n",
       "      <td>Airedale, a valley (dale) in the West Riding o...</td>\n",
       "      <td>A UK study found a life expectancy of 12 years...</td>\n",
       "      <td>NaN</td>\n",
       "      <td>NaN</td>\n",
       "      <td>The Airedale is the largest of the British ter...</td>\n",
       "      <td>The Airedale can be used as a working dog and ...</td>\n",
       "    </tr>\n",
       "    <tr>\n",
       "      <th>4</th>\n",
       "      <td>4</td>\n",
       "      <td>Akita (dog breed)</td>\n",
       "      <td>NaN</td>\n",
       "      <td>NaN</td>\n",
       "      <td>NaN</td>\n",
       "      <td>NaN</td>\n",
       "      <td>As a spitz breed, the appearance of the Akita ...</td>\n",
       "      <td>The Akita is generally seen as territorial abo...</td>\n",
       "    </tr>\n",
       "  </tbody>\n",
       "</table>\n",
       "</div>"
      ],
      "text/plain": [
       "   id         breed_name                                            history  \\\n",
       "0   0      Affenpinscher  The word 'Affenpinscher' derives from Affe, Ge...   \n",
       "1   1       Afghan Hound  The Afghan Hound has been identified as a basa...   \n",
       "2   2               Aidi  The Aidi is a breed native to the Atlas Mounta...   \n",
       "3   3   Airedale Terrier  Airedale, a valley (dale) in the West Riding o...   \n",
       "4   4  Akita (dog breed)                                                NaN   \n",
       "\n",
       "                                              health  \\\n",
       "0  A UK study found a life expectancy of 9.3 year...   \n",
       "1                                                NaN   \n",
       "2                                                NaN   \n",
       "3  A UK study found a life expectancy of 12 years...   \n",
       "4                                                NaN   \n",
       "\n",
       "                                         description characteristics  \\\n",
       "0  The Affenpinscher generally weighs 4–6 kg (9–1...             NaN   \n",
       "1  The dogs in this breed occur in many different...             NaN   \n",
       "2                                                NaN             NaN   \n",
       "3                                                NaN             NaN   \n",
       "4                                                NaN             NaN   \n",
       "\n",
       "                                          appearance  \\\n",
       "0                                                NaN   \n",
       "1                                                NaN   \n",
       "2  Standing 52–62 cm (20–24 in) in height and wei...   \n",
       "3  The Airedale is the largest of the British ter...   \n",
       "4  As a spitz breed, the appearance of the Akita ...   \n",
       "\n",
       "                                         temperament  \n",
       "0                                                NaN  \n",
       "1                                                NaN  \n",
       "2                                                NaN  \n",
       "3  The Airedale can be used as a working dog and ...  \n",
       "4  The Akita is generally seen as territorial abo...  "
      ]
     },
     "execution_count": 3,
     "metadata": {},
     "output_type": "execute_result"
    }
   ],
   "source": [
    "df.head()"
   ]
  },
  {
   "cell_type": "code",
   "execution_count": 4,
   "id": "24b0ba9f",
   "metadata": {},
   "outputs": [
    {
     "data": {
      "text/plain": [
       "Index(['id', 'breed_name', 'history', 'health', 'description',\n",
       "       'characteristics', 'appearance', 'temperament'],\n",
       "      dtype='object')"
      ]
     },
     "execution_count": 4,
     "metadata": {},
     "output_type": "execute_result"
    }
   ],
   "source": [
    "df.columns"
   ]
  },
  {
   "cell_type": "code",
   "execution_count": 5,
   "id": "c8b84f94",
   "metadata": {},
   "outputs": [],
   "source": [
    "df = df.fillna('')"
   ]
  },
  {
   "cell_type": "code",
   "execution_count": 6,
   "id": "2c230897",
   "metadata": {},
   "outputs": [],
   "source": [
    "documents = df.to_dict(orient='records')"
   ]
  },
  {
   "cell_type": "code",
   "execution_count": 7,
   "id": "71bd62bd",
   "metadata": {},
   "outputs": [],
   "source": [
    "index = minsearch.Index(\n",
    "    text_fields=['breed_name', 'history', 'health', 'description', 'characteristics',\n",
    "       'appearance', 'temperament'],\n",
    "    keyword_fields=['id']\n",
    ")"
   ]
  },
  {
   "cell_type": "code",
   "execution_count": 8,
   "id": "23599460",
   "metadata": {},
   "outputs": [
    {
     "data": {
      "text/plain": [
       "<minsearch.minsearch.Index at 0x2ad24e68e80>"
      ]
     },
     "execution_count": 8,
     "metadata": {},
     "output_type": "execute_result"
    }
   ],
   "source": [
    "index.fit(documents)"
   ]
  },
  {
   "cell_type": "code",
   "execution_count": 9,
   "id": "99bf5818",
   "metadata": {},
   "outputs": [],
   "source": [
    "query = \"Give me breed friendly for family\""
   ]
  },
  {
   "cell_type": "markdown",
   "id": "a657c661",
   "metadata": {},
   "source": [
    "### RAG Flow"
   ]
  },
  {
   "cell_type": "code",
   "execution_count": 10,
   "id": "d63ededa",
   "metadata": {},
   "outputs": [
    {
     "data": {
      "text/plain": [
       "[{'id': 246,\n",
       "  'breed_name': 'Pointer (dog breed)',\n",
       "  'history': 'There has been much debate among dog historians about the ancestry of the Pointer. The most commonly held position is that the breed descends from Old Spanish Pointers that were imported into England. The popular belief is that Spanish Pointers were first introduced to England in 1713 by soldiers returning from Spain after the Peace of Utrecht. In his Cynographia Britannica, published in 1800, Sydenham Edwards states that the \"Spanish Pointer was introduced to this country [England] by a Portugal Merchant, at a very modern period, and was first used by a reduced Baron, of the name of Bichell, who lived in Norfolk, and could shoot flying\".\\nOther early sources suggest Portuguese Pointers, Italian Braccos or French pointers were the foundation of the English breed. In 1902, Victorian era sportsman William Arkwright produced the book The pointer and his predecessors often considered one of the best early histories of the Pointer for which he expended considerable time and money searching continental archives. In the book he notes that he did not find any truly convincing evidence of Spanish Pointers being the foundation stock of the Pointer but still concludes on the basis of all evidence that it is the most likely history. It is noteworthy that in those days dog breeds did not exist as they are known in more modern times, and that a more general pointing type of dog (typically a short haired, hound-like, air-scenting dog with regional variations of appearance that was used for indicating the location of game birds) was known in all of these countries.\\nA second less commonly held belief is a form of Pointer that was present in England, much earlier than the introduction of the Spanish Pointer, and that they were used from medieval times to indicate the location of hares which were subsequently coursed by greyhounds or caught by hawks; it is held that these dogs were subsequently heavily influenced by the introduction of imported continental European pointer blood.\\nThe earliest recorded mentions of Pointers in England date from the early 18th century. John Gay mentions Pointers being used to hunt partridge in his 1713 poem Rural sports, and Peter Tillemans produced a painting of the Duke of Kingston-upon-Hull\\'s kennel of pointers in 1725.\\nA compendium of sources state that in England early Pointers were crossed with other breeds to impart certain desirable traits, including setters, bloodhounds and foxhounds, with some mention of Bull Terriers and bulldogs. Early Pointers were comparatively heavy, ponderous dogs able to hold a steady point whilst the hunter readied his gun. With the steady improvement of firearms throughout the 18th and 19th centuries, faster and more agile dogs were sought so Greyhounds were increasingly introduced to add speed. The introduction of Greyhound blood resulted in the modern Pointer being a much finer dog with a comparatively tucked-up loin, tighter lips and low-set tail, more akin to that of the Greyhound than other European pointer breeds.\\nThe Pointer\\'s breed standard was formally adopted in 1936 and has subsequently remained largely unchanged.',\n",
       "  'health': 'The Pointer is considered a generally healthy breed with a life expectancy of 13–14 years, The Kennel Club does not recommend any genetic or screening tests be conducted for the breed. Known inherited conditions that have been found in the breed include hip dysplasia, elbow dysplasia, patella luxation, hereditary sensory neuropathy, spinal muscle atrophy, X-linked cerebellar ataxia and deafness. The breed has minor predispositions to hypothyroidism, demodicosis, cataracts, retinal dysplasia and corneal dystrophy.',\n",
       "  'description': '',\n",
       "  'characteristics': '',\n",
       "  'appearance': \"The Pointer is a medium-sized, athletic breed that is built for both endurance and speed. They typically stand between 53 and 71 centimetres (21 and 28 in) with bitches being shorter than dogs. The breed standard of The Kennel Club states that dogs should stand 64 to 69 centimetres (25 to 27 in) and bitches 61 to 66 centimetres (24 to 26 in). The breed usually weighs between 20 and 34 kilograms (45 and 75 lb), with dogs weighing 25 to 34 kilograms (55 to 75 lb) and bitches 20 to 29 kilograms (45 to 65 lb). The Pointer has a very distinctive head with a slightly dished face and elevated nose, a raised brow, and wide nostrils, their ears are hanging and lie close to the face, are high set, medium-sized, and slightly pointed. The breed standard describes them as having a long, muscular, slightly arched neck; long, sloping shoulders that are well laid back; a chest wide enough for plenty of heart; straight and firm forelegs with good bone; muscular hindquarters; oval shaped feet; and a medium-length tail that is thick at the root. Their coat is short haired, fine, hard, smooth and evenly distributed; they are usually bi-coloured, white with lemon, orange, liver or black coloured patches, whilst rare tri-coloured and self-coloured dogs are also known. The Pointer's short and fine coat makes the breed well suited to working on grouse moors during the summer months but makes them particularly susceptible to feeling cold during wet and cold weather.\\nWhen compared to images of pointers from the 19th century the modern breed is a much finer dog, reflecting inclusion of greyhound blood. As with many British gundog breeds, stark differences have emerged between Pointers bred for the purpose of field work and those bred for conformation shows which accent certain features of the breed, such as narrower chests, exaggerated facial features, straighter shoulders, a less natural movement and less muscle than those bred for use as gundogs.\",\n",
       "  'temperament': ''},\n",
       " {'id': 92,\n",
       "  'breed_name': 'Chihuahua (dog breed)',\n",
       "  'history': 'DNA studies suggest that native American dogs entered North America from Siberia roughly 10,000 years ago, and were then isolated from other breeds for some 9,000 years until the arrival of the first Europeans; these pre-contact dogs exhibited a unique genetic signature that is now almost gone. A study based on sequencing of ancient dog genomes, published in 2020, suggests that this pre-colonial ancestry survives in two Mexican breeds, to the extent of about 4% in the Chihuahua (and some 3% in the Xoloitzcuintli). Other studies have suggested that the pre-colonial ancestry of the Chihuahua may be as high as 70%.\\nColonial records refer to small, nearly hairless dogs at the beginning of the nineteenth century; one claims that sixteenth-century conquistadores found them plentiful in the region later known as Chihuahua. In a letter written in 1520, Hernan Cortés wrote that the Aztecs raised and sold little dogs as food.\\nThe American Kennel Club first registered a Chihuahua in 1904, Midget, owned by H. Raynor of Texas.',\n",
       "  'health': 'The Chihuahua has some genetic predisposition to several neurological diseases, among them atlantoaxial instability, ceroid lipofuscinosis, congenital deafness, congenital hydrocephalus, muscular dystrophy, necrotizing meningoencephalitis, and  neuroaxonal dystrophy; it has a mild predisposition to congenital heart disease. In a radiographical study of canine periodontal disease in 2001, the Chihuahua was found to have the lowest incidence of the six breeds studied. The predisposition to medial patellar luxation is believed to be significant.\\nA 2018 study in Japan of pet cemetery data found the Chihuahua to have an average life expectancy of 11.8 years compared to 15.1 for crossbreeds and 13.7 overall. A 2022 UK study on life expectancy of dog breeds based on veterinary data showed the average life expectancy to be 7.91 for the breed compared to 11.82 years for crossbreeds. A 2024 UK study found a life expectancy of 11.8 years for the breed compared to an average of 12.7 for purebreeds and 12 for crossbreeds. A 2024 Italian study found a life expectancy of 8.5 years for the breed compared to 10 years overall.\\nA UK study found the Chihuahua bitch to be more than 10.4 times more likely to experience dystocia.',\n",
       "  'description': '',\n",
       "  'characteristics': 'Chihuahua breed standards specify an \"apple-head\" or \"apple-dome\" skull conformation. Chihuahuas occur in virtually any color combination, from solid to marked or splashed. Apple-dome Chihuahuas have large, round eyes and large, erect ears, set in a high, dramatically rounded skull. Chihuahuas have a feature on their heads called the molera, which is a soft spot much like the fontanel found in human infants. It can be hard to see but is easy to feel by touch. The stop is well defined, forming a near-90-degree angle where the muzzle meets the skull. Dogs of the older \"deer\" type, with a flat-topped head, more widely set eyes, larger ears, and longer, more slender legs, may still be registered, but the deer head is not considered a separate type in competition and a deer-head dog\\'s digression from the breed standard is considered a fault.\\nBreed standards for this dog do not generally specify a height; only a weight and a description of their overall proportions. Generally, the height ranges between 15 and 23 cm (6 and 9 in); some dogs grow to 30 to 38 cm (12 to 15 in).\\nThe Fédération Cynologique Internationale standard calls for dogs ideally between 1.5 and 2.5 kg (3.3 and 5.5 lb); those outside the range 1.0–3.0 kg (2.2–6.6 lb) are disqualified from exhibition. The American breed standard sets a maximum weight of 2.7 kg (5.9 lb) for showing. In the British standard a weight of 1.8–2.7 kg (4–6 lb) is preferred – the clause \"if two dogs are equally good in type, the more diminutive one is preferred\" was removed in 2009.\\nPet Chihuahuas (those bred or purchased as companions rather than as show dogs) often range above these weights, even above 4.5 kg (10 lb), if they have large bone structures or are allowed to become overweight. This does not mean that they are not purebred Chihuahuas; they just do not meet the requirements to enter a conformation show. Chihuahuas do not breed true for size, and puppies from the same litter can mature in drastically different sizes from one another. Also, larger breeding females are less likely to experience dystocia (obstructed labor). Many breeders try to breed Chihuahuas to be as small as possible, because those marketed as \"teacup\" or \"tiny teacup\" demand higher prices.\\nThe international standard disallows the merle coat pattern, which appears mottled. In 2007 The Kennel Club of Great Britain amended its breed standard to disqualify merle dogs because of the health risks associated with the underlying gene.\\nLike many other small dogs, the Chihuahua may display above-average aggression toward people and other dogs.',\n",
       "  'appearance': '',\n",
       "  'temperament': ''},\n",
       " {'id': 57,\n",
       "  'breed_name': 'Boxer (dog breed)',\n",
       "  'history': \"The Boxer is a hunting mastiff developed in Germany in the late 19th century from the now extinct Bullenbeisser, a dog of English Mastiff descent, and Bulldogs brought in from Great Britain. The Bullenbeisser had been working as a hunting dog for centuries, employed in the pursuit of bear, wild boar, and deer. Its task was to seize the prey and hold it until the hunters arrived. In later years, faster dogs were favored and a smaller Bullenbeisser was bred in Brabant, in northern Belgium. The Brabanter Bullenbeisser is generally accepted as being a direct ancestor of today's Boxer.\\nIn 1894, three Germans, Friedrich Robert, Elard König, and R. Höpner, decided to stabilize the breed and put it on exhibition at a dog show. This was done in Munich in 1896, and the year before they founded the first Boxer Club, the Deutscher Boxer Club. The club went on to publish the first Boxer breed standard in 1904, a detailed document that has not been changed much since.\\n\\nThe breed was introduced to other parts of Europe in the late 19th century and to the United States around the turn of the 20th century. The AKC registered the first Boxer in 1904, and recognized the first Boxer champion, Dampf vom Dom, in 1915. During World War I, the Boxer was co-opted for military work, acting as a valuable messenger dog, pack carrier, attack dog, and guard dog. The Boxer did not become popular around the world until after World War II. Taken home by returning soldiers, the dog was introduced to a wider audience and soon became a favorite as a companion, a show dog, and a guard dog.\",\n",
       "  'health': 'A 2024 UK study found a life expectancy of 11.3 years for the breed compared to an average of 12.7 for purebreeds and 12 for crossbreeds. A 2024 Italian study found a life expectancy of 9 years for the breed compared to 10 years overall. A 2005 Swedish study of insurance data found 50% of Boxers died by the age of 10, higher than the overall rate of 35% of dogs dying by the age of 10.\\nLeading health issues to which Boxers are prone include cancers, heart conditions such as aortic stenosis and arrhythmogenic right ventricular cardiomyopathy (the so-called \"Boxer cardiomyopathy\"), hypothyroidism, hip dysplasia, and degenerative myelopathy and epilepsy; other conditions that may be seen are gastric dilatation volvulus (also known as bloat), intestinal problems, and allergies (although these may be more related to diet than breed). Entropion, a malformation of the eyelid requiring surgical correction, is occasionally seen, and some lines have a tendency toward spondylosis deformans, a fusing of the spine, or dystocia. Other conditions that are less common but occur more often in Boxers than other breeds are histiocytic ulcerative colitis (sometimes called Boxer colitis), an invasive E. coli infection, and indolent corneal ulcers, often called Boxer eye ulcers.\\nAn emerging health concern among boxers is Boxer Juvenile Kidney Disease (JKD), where the kidneys do not develop normally during gestation and leads to chronic renal failure. JKD is most frequently diagnosed in dogs under the age of 3, and often much earlier than this in puppies before the age of 12 months. There is strong evidence to suggest JKD is an inherited condition in boxers with research being undertaken by the University of Ohio to determine the gene mutation, as well as other work separately by the UK Boxer Breeder Council.\\nAbout 22% of puppies die before reaching seven weeks of age.  Stillbirth is the most frequent cause of death, followed by infection.  Mortality due to infection increases significantly with increases in inbreeding.\\nAccording to a UK Kennel Club health survey, cancer accounts for 38.5% of Boxer deaths, followed by old age (21.5%), cardiac (6.9%) and gastrointestinal (6.9%) related issues. The breed is particularly predisposed to mast cell tumours, a cancer of the immune system. Median lifespan was 10.25 years. Responsible breeders use available tests to screen their breeding stock before breeding, and in some cases throughout the life of the dog, in an attempt to minimize the occurrence of these diseases in future generations.\\nThe Boxer is one of the more commonly affected breeds for degenerative myelopathy.',\n",
       "  'description': '',\n",
       "  'characteristics': '',\n",
       "  'appearance': 'The head is the most distinctive feature of the Boxer. The breed standard dictates that it must be in perfect proportion to the body and above all it must never be too light. The greatest value is to be placed on the muzzle being of correct form and in absolute proportion to the skull. The length of the muzzle to the whole of the head should be a ratio of 1:3. Folds are always present from the root of the nose running downwards on both sides of the muzzle, and the tip of the nose should lie somewhat higher than the root of the muzzle. In addition, a Boxer should be slightly prognathous, i.e., the lower jaw should protrude beyond the upper jaw and bend slightly upwards in what is commonly called an underbite or \"undershot bite\".\\nBoxers were originally a docked and cropped breed, and this is still done in some countries, but due to pressure from veterinary associations, animal rights groups, and the general public, both cropping of the ears and docking of the tail have been prohibited in some countries around the world, and is not recognised by the breed standard laid down by The Kennel Club of the UK. The American Kennel club still permits cropped ears. A line of naturally short-tailed (bobtail) Boxers was developed in the United Kingdom in anticipation of a tail-docking ban there; after several generations of controlled breeding, these dogs were accepted in the Kennel Club (UK) registry in 1998, and today representatives of the bobtail line can be found in many countries. In 2008, the Fédération Cynologique Internationale (FCI) added a \"naturally stumpy tail\" as a disqualifying fault in their breed standard, meaning those Boxers born with a bobtail can no longer be shown in FCI member countries. In the United States and Canada as of 2012, cropped ears are still more common in show dogs,  though the practice of cosmetic cropping is currently opposed by the American Veterinary Medical Association. In March 2005, the AKC breed standard was changed to include a description of the uncropped ear, but to severely penalize an undocked tail. The tail of a boxer is typically docked before the cartilage is fully formed, from 3–5 days old. The procedure does not require any sutures when performed at this young age, and anesthesia is not used. The docking of the tail is not permitted under the breed standard of The Kennel Club UK.',\n",
       "  'temperament': 'The character of the Boxer is of the greatest importance and demands the most solicitous attention. He is renowned from olden times for his great love and faithfulness to his master and household. He is harmless in the family, but can be distrustful of strangers, bright and friendly of temperament at play, but brave and determined when aroused. His intelligence and willing tractability, his modesty and cleanliness make him a highly desirable family dog and cheerful companion. He is the soul of honesty and loyalty, and is never false or treacherous even in his old age. \\n \\nGeneral appearance\\nGreat nobility, smooth-coated, medium-sized, square build, strong bone and evident, well developed muscles.\\nCharacteristics\\nLively, strong, loyal to owner and family, but distrustful of strangers. Obedient, friendly at play, but with guarding instinct.\\nTemperament\\n\\nEquable, biddable, fearless, self-assured.  \\nBoxers are a bright, energetic, and playful breed and tend to be very good with children. They are patient and spirited with children, but also protective, making them a popular choice for families. They are active, strong dogs that require adequate exercise to prevent boredom-associated behaviors such as chewing, digging, or licking. Boxers have earned a slight reputation of being \"headstrong\", which can be related to inappropriate obedience training. Owing to their intelligence and working-breed characteristics, training based on corrections often has limited usefulness. Boxers, like other animals, typically respond better to positive reinforcement techniques such as clicker training, an approach based on operant conditioning and behaviorism, which offers the dog an opportunity to think independently and to problem-solve. Stanley Coren\\'s survey of obedience trainers, summarized in his book The Intelligence of Dogs, ranked Boxers at number 48\\u200d—\\u200daverage working/obedience intelligence. Many who have worked with Boxers disagree quite strongly with Coren\\'s survey results, and maintain that a skilled trainer who uses reward-based methods will find Boxers have far above-average intelligence and working ability.\\nThe Boxer by nature is not an aggressive or vicious breed. It is an instinctive guardian and can become very attached to its family. Like all dogs, it requires proper socialization. Boxers are generally patient with smaller dogs and puppies, but difficulties with larger adult dogs, especially those of the same sex, may occur. Boxers are generally more comfortable with companionship, in either human or canine form. They are very patient and are great to adopt as family dogs because they are good with children and people of all kinds.'}]"
      ]
     },
     "execution_count": 10,
     "metadata": {},
     "output_type": "execute_result"
    }
   ],
   "source": [
    "index.search(query, num_results=3)"
   ]
  },
  {
   "cell_type": "markdown",
   "id": "1ce1d4c6",
   "metadata": {},
   "source": [
    "### OpenAI"
   ]
  },
  {
   "cell_type": "code",
   "execution_count": 11,
   "id": "1cd1c067",
   "metadata": {},
   "outputs": [
    {
     "name": "stdout",
     "output_type": "stream",
     "text": [
      "Sure! Here are dog breeds that are commonly considered family-friendly. I’ve grouped them by size and included quick notes on temperament, energy, and grooming so you can pick what fits your family.\n",
      "\n",
      "Small to medium breeds\n",
      "- Cavalier King Charles Spaniel: sweet, adaptable, great with kids; moderate exercise; moderate grooming.\n",
      "- Beagle: friendly, curious, good with kids; energy can be high—needs training and supervision to keep them safe.\n",
      "- Bichon Frise: cheerful, good with families; low-shedding (not fully hypoallergenic); regular grooming.\n",
      "- Cocker Spaniel: affectionate and good with kids; enjoys a walk or two daily; needs regular brushing.\n",
      "- Poodle (Toy/Mini/Standard): very trainable, often good for families with allergies (low-shedding); needs grooming.\n",
      "- French Bulldog: affectionate, good with kids; low-to-moderate exercise; can have health issues to watch.\n",
      "- Bulldog (English Bulldog): calm, family-friendly; great with kids but needs vet care for potential health issues and moderate exercise.\n",
      "\n",
      "Medium to large breeds\n",
      "- Labrador Retriever: a classic family dog—friendly, patient with kids, highly trainable; needs exercise and mental stimulation.\n",
      "- Golden Retriever: similar to Lab—gentle, patient with kids; loves to fetch and learn; regular brushing.\n",
      "- Boxer: playful, loyal, good with kids with proper training; higher energy and needs activity.\n",
      "- Collie (Rough Collie or similar): very good with kids, gentle and loyal; cues well to training; enjoys regular activity.\n",
      "- Bernese Mountain Dog: calm and affectionate; great with families; requires space and routine grooming.\n",
      "- Newfoundland: gentle giant; excellent with kids; needs lots of room and regular grooming.\n",
      "- Great Dane: friendly and good with kids; needs space and consistent training; health considerations to review.\n",
      "- Irish Setter: friendly and energetic; loves outdoor play; requires lots of exercise and brushing.\n",
      "- Vizsla: very affectionate and people-oriented; high energy; needs ample exercise and mental engagement.\n",
      "- German Shepherd: intelligent and loyal, great with kids when socialized; better for active families and experienced owners.\n",
      "\n",
      "Hypoallergenic or low-shedding options (often preferred by families with allergies)\n",
      "- Standard Poodle, Miniature Poodle, or a Poodle mix (e.g., Goldendoodle, Labradoodle): smart, trainable, many are good with kids; grooming is ongoing.\n",
      "- Bichon Frise (also listed above for small/medium): low-shedding, needs regular grooming.\n",
      "- Soft Coated Wheaten Terrier or Lagotto Romagnolo: friendly; moderate grooming needs; good with families.\n",
      "\n",
      "Tips to choose the right family dog\n",
      "- Kids’ ages and dog’s temperament: Some small breeds can be more fragile around very young children; supervision is essential with any breed.\n",
      "- Energy level: Match the dog’s energy to your family’s activity. Active families may prefer Labs, Goldens, or Setters; calmer households might do well with Bulldogs, Bichons, or Cavaliers.\n",
      "- Grooming time and costs: Some breeds need daily brushing and regular professional grooming; others require minimal grooming.\n",
      "- Space and living situation: Larger breeds typically do better with access to a yard and more space; smaller breeds adapt well to apartments but still need daily exercise.\n",
      "- First-time owner considerations: Trainability, temperament, and ease of management vary. Poodles, Labs, and Golden Retrievers are often recommended for first-time owners.\n",
      "- Adoption route: Consider shelters and rescues—many mixed-breed dogs can be incredibly family-friendly and have wonderful temperaments.\n",
      "\n",
      "Would you like me to tailor this further? If you share:\n",
      "- your country/region,\n",
      "- family size and ages of children,\n",
      "- whether you have allergies (or not),\n",
      "- your living situation (house with yard vs apartment),\n",
      "- how much time you can devote to exercise and training,\n",
      "I can suggest a short list of breeds (and even some rescue options) that are most likely to fit your family.\n"
     ]
    }
   ],
   "source": [
    "import os\n",
    "\n",
    "api_key = os.environ[\"OPENAI_API_KEY\"]\n",
    "model = \"gpt-5-nano\"\n",
    "\n",
    "client = OpenAI(api_key=api_key)\n",
    "\n",
    "chat_response = client.chat.completions.create(\n",
    "    model = model,\n",
    "    messages = [\n",
    "        {\n",
    "            \"role\": \"user\",\n",
    "            \"content\": query,\n",
    "        },\n",
    "    ]\n",
    ")\n",
    "\n",
    "print(chat_response.choices[0].message.content)\n"
   ]
  },
  {
   "cell_type": "markdown",
   "id": "d4b078f3",
   "metadata": {},
   "source": [
    "### RAG Flow"
   ]
  },
  {
   "cell_type": "code",
   "execution_count": 12,
   "id": "1d826bb9",
   "metadata": {},
   "outputs": [
    {
     "data": {
      "text/plain": [
       "{'id': 0,\n",
       " 'breed_name': 'Affenpinscher',\n",
       " 'history': \"The word 'Affenpinscher' derives from Affe, German for 'ape' or 'monkey'; it is sometimes translated as 'Monkey Terrier', although the dog is a pinscher and not a terrier.\\nThe origins of the Pinscher group of dogs are unknown. Dogs of this type, both rough-haired and smooth-haired, were traditionally kept as carriage dogs or as stable dogs, and so were sometimes known as Stallpinscher; they were capable ratters. Until the late nineteenth century, both rough-haired and smooth-haired types were known as Deutscher Pinscher, and came from the same lineage; puppies of both types could occur in the same litter.\\nIn 1880 the Pinscher was recorded in the Deutschen Hundestammbuch of the Verein zur Veredelung der Hunderassen. In 1895 Ludwig Beckmann described five varieties of Pinscher – the rough- and smooth-haired Pinscher, the rough- and smooth-haired Miniature Pinscher, and the Affenpinscher. In 1895 a breed society, the Pinscher-Schnauzer-Klub, was established for both types, both rough- and smooth-haired.\\nDogs of the Affenpinscher type have been known since about 1600. There were originally thought to be two sizes, the larger size is now extinct. The larger size was approximately 30 to 33 centimetres (12 to 13 in), and came in colours of grey, fawn, black, tan, and red. White feet and chests were also common. The breed was created to be a ratter in homes, working to remove rodents from kitchens, and also granaries and stables. Early breeders crossed the various schnauzers and pinschers with the goal to create a mouser who also was a good companion dog.  Some of the breeds that may have been included to produce the Affenpinscher are pugs, German pinschers, schnauzers and silky pinschers.\\nThe breed predates and is ancestral to the Griffon Bruxellois (Brussels Griffon) and Miniature Schnauzer which was thought to be from affenpinschers crossed with standard schnauzers in addition to other breeds. The breed was recognised by the AKC in 1935 and the FCI in 1955.\\n\\nBanana Joe V Tani Kazari, a.k.a. Joe, a five-year-old Affenpinscher, was named Best in Show at the 2013 Westminster Kennel Club Dog Show in New York City.\",\n",
       " 'health': 'A UK study found a life expectancy of 9.3 years for the breed compared to an average of 12.7 for purebreeds and 12 for crossbreeds\\nThe Affenpinscher is prone to hip dysplasia. As with many small breeds of dog, they are prone to collapsed trachea and luxating patella. Some are prone to fractures, PDA, open fontanel and respiratory problems in hot weather. Ocular conditions such as cataracts are occasionally reported. An emerging concern is syringomyelia, although the incidence is currently unknown.\\nBitches are more prone to seasonal flank alopecia, which seems to affect them during the winter.',\n",
       " 'description': 'The Affenpinscher generally weighs 4–6 kg (9–13 lb) and stands some 25–30 cm (10–12 in) at the withers. It has a harsh rough coat when it is not clipped, but if clipped it can be softer and fluffier. It has a notable monkey-like expression (affe is German for monkey). Its coat is shaggier over the head and shoulders, forming a mane, with a shorter coat over the back and hind quarters. It is harsh and wiry in texture when properly maintained. The Fédération Cynologique Internationale and British Kennel Club breed standards specify that the coat must be black, but the American Kennel Club also allows grey, silver, red, black and tan, and beige (a mixture of red, brown, black and white hairs).\\nAffenpinschers have a distinct appearance that some associate with terriers. However, they are part of \"Group 2, Section 1: Pinschers and Schnauzers\" in the FCI classification, and not the terrier group.',\n",
       " 'characteristics': '',\n",
       " 'appearance': '',\n",
       " 'temperament': ''}"
      ]
     },
     "execution_count": 12,
     "metadata": {},
     "output_type": "execute_result"
    }
   ],
   "source": [
    "documents[0]"
   ]
  },
  {
   "cell_type": "code",
   "execution_count": 13,
   "id": "f327c1a4",
   "metadata": {},
   "outputs": [],
   "source": [
    "def search(query):\n",
    "    boost = {}\n",
    "\n",
    "    results = index.search(\n",
    "        query=query,\n",
    "        filter_dict={},\n",
    "        boost_dict=boost,\n",
    "        num_results=10\n",
    "    )\n",
    "\n",
    "    return results"
   ]
  },
  {
   "cell_type": "code",
   "execution_count": 14,
   "id": "996e5652",
   "metadata": {},
   "outputs": [],
   "source": [
    "prompt_template = \"\"\"\n",
    "You're a dog behaviour expert and assist families to find the best dog breed match for their preferences. Answer the QUESTION based on the CONTEXT from the FAQ database.\n",
    "Use only the facts from the CONTEXT when answering the QUESTION.\n",
    "\n",
    "QUESTION: {question}\n",
    "\n",
    "CONTEXT: \n",
    "{context}\n",
    "\"\"\".strip()\n",
    "\n",
    "entry_template = \"\"\"\n",
    "breed_name: {breed_name}\n",
    "history: {history}\n",
    "health: {health}\n",
    "description: {description}\n",
    "characteristics: {characteristics}\n",
    "appearance: {appearance}\n",
    "temperament: {temperament}\n",
    "\"\"\".strip()"
   ]
  },
  {
   "cell_type": "code",
   "execution_count": 15,
   "id": "86608882",
   "metadata": {},
   "outputs": [],
   "source": [
    "def build_prompt(query, search_results):\n",
    "    context = \"\"\n",
    "    \n",
    "    for doc in search_results:\n",
    "        context = context + entry_template.format(**doc) + \"\\n\\n\"\n",
    "\n",
    "    prompt = prompt_template.format(question=query, context=context).strip()\n",
    "    return prompt"
   ]
  },
  {
   "cell_type": "code",
   "execution_count": 16,
   "id": "3c9bf614",
   "metadata": {},
   "outputs": [],
   "source": [
    "def llm(prompt, model=\"gpt-4o-mini\"):\n",
    "    response = client.chat.completions.create(\n",
    "        model=model,\n",
    "        messages=[{\"role\": \"user\", \"content\": prompt}]\n",
    "    )\n",
    "    \n",
    "    return response.choices[0].message.content"
   ]
  },
  {
   "cell_type": "code",
   "execution_count": 17,
   "id": "7b792314",
   "metadata": {},
   "outputs": [],
   "source": [
    "def rag(query, model=\"gpt-4o-mini\"):\n",
    "    search_results = search(query)\n",
    "    prompt = build_prompt(query, search_results)\n",
    "    #print(prompt)\n",
    "    answer = llm(prompt, model=model)\n",
    "    return answer"
   ]
  },
  {
   "cell_type": "code",
   "execution_count": 18,
   "id": "fb9c82e9",
   "metadata": {},
   "outputs": [
    {
     "name": "stdout",
     "output_type": "stream",
     "text": [
      "Here are five family-friendly dog breeds based on their characteristics and temperament:\n",
      "\n",
      "1. **Boxer**: Known for their loving nature, Boxers are loyal and protective, making them excellent family dogs. They are patient and energetic, often very good with children.\n",
      "\n",
      "2. **Papillon**: These small dogs are happy, friendly, and intelligent. Papillons are known for being playful and adaptable, making them great companions for families, although they should be monitored around small children.\n",
      "\n",
      "3. **Kintamani Dog**: This breed is gentle and affectionate with its family. Kintamanis are known to be good watchdogs, providing protective qualities alongside their loving demeanor.\n",
      "\n",
      "4. **Portuguese Water Dog**: These dogs are friendly and intelligent, eager to please their owners. Their loving nature and enthusiasm for family activities make them wonderful companions.\n",
      "\n",
      "5. **Smooth Collie**: Smooth Collies are sociable and easily trainable, getting along well with children and other pets. Their alert nature makes them good watchdogs, while their intelligence allows for various forms of training. \n",
      "\n",
      "These breeds are generally recognized for their compatibility with family life, exhibiting traits that foster positive interactions with children and household members.\n"
     ]
    }
   ],
   "source": [
    "question = 'Write me 5 best family friendly dog breeds'\n",
    "answer = rag(question)\n",
    "print(answer)"
   ]
  },
  {
   "cell_type": "code",
   "execution_count": 19,
   "id": "f3fd648b",
   "metadata": {},
   "outputs": [
    {
     "name": "stdout",
     "output_type": "stream",
     "text": [
      "The Nova Scotia Duck Tolling Retriever is not known to be aggressive. This breed is characterized as intelligent, curious, alert, outgoing, and high-energy, often exhibiting affectionate and eager-to-please behavior. They generally socialize well with children and make good family dogs. While they have a unique bark known as the \"toller scream,\" this sound is used when they are excited and is not indicative of aggression. To maintain their well-being, they require regular physical and mental stimulation to prevent undesirable behaviors, which could arise if they are not exercised adequately or left alone for extended periods.\n"
     ]
    }
   ],
   "source": [
    "question = 'Is Nova Scotia Duck Tolling Retriever agressive?'\n",
    "answer = rag(question)\n",
    "print(answer)"
   ]
  }
 ],
 "metadata": {
  "kernelspec": {
   "display_name": "PawfectMate-5Jf2huuA",
   "language": "python",
   "name": "python3"
  },
  "language_info": {
   "codemirror_mode": {
    "name": "ipython",
    "version": 3
   },
   "file_extension": ".py",
   "mimetype": "text/x-python",
   "name": "python",
   "nbconvert_exporter": "python",
   "pygments_lexer": "ipython3",
   "version": "3.10.9"
  }
 },
 "nbformat": 4,
 "nbformat_minor": 5
}
