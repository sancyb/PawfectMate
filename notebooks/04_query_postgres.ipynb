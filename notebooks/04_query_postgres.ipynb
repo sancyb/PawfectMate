{
 "cells": [
  {
   "cell_type": "code",
   "execution_count": 4,
   "id": "32830383",
   "metadata": {},
   "outputs": [],
   "source": [
    "import pandas as pd\n",
    "import psycopg2"
   ]
  },
  {
   "cell_type": "code",
   "execution_count": 2,
   "id": "d2bda024",
   "metadata": {},
   "outputs": [],
   "source": [
    "conn = psycopg2.connect(host=\"localhost\",\n",
    "                 database=\"course_assistant\",\n",
    "                 user=\"your_username\",\n",
    "                 password=\"your_password\",\n",
    "                 port=5432)"
   ]
  },
  {
   "cell_type": "code",
   "execution_count": 3,
   "id": "f9d1844e",
   "metadata": {},
   "outputs": [
    {
     "name": "stdout",
     "output_type": "stream",
     "text": [
      "Tables in database:\n",
      "conversations\n",
      "feedback\n"
     ]
    }
   ],
   "source": [
    "cursor = conn.cursor()\n",
    "\n",
    "# Query to get all table names in the public schema\n",
    "cursor.execute(\"\"\"\n",
    "    SELECT table_name\n",
    "    FROM information_schema.tables\n",
    "    WHERE table_schema = 'public'\n",
    "        AND table_type = 'BASE TABLE';\n",
    "\"\"\")\n",
    "\n",
    "tables = cursor.fetchall()\n",
    "print(\"Tables in database:\")\n",
    "for table in tables:\n",
    "    print(table[0])"
   ]
  },
  {
   "cell_type": "code",
   "execution_count": 8,
   "id": "69434baa",
   "metadata": {},
   "outputs": [],
   "source": [
    "query = \"\"\"    SELECT *\n",
    "    FROM feedback\n",
    "\"\"\""
   ]
  },
  {
   "cell_type": "code",
   "execution_count": 9,
   "id": "8921e081",
   "metadata": {},
   "outputs": [
    {
     "name": "stderr",
     "output_type": "stream",
     "text": [
      "C:\\Users\\ROG\\AppData\\Local\\Temp\\ipykernel_28952\\3931869133.py:1: UserWarning: pandas only supports SQLAlchemy connectable (engine/connection) or database string URI or sqlite3 DBAPI2 connection. Other DBAPI2 objects are not tested. Please consider using SQLAlchemy.\n",
      "  pd.read_sql(query, conn)\n"
     ]
    },
    {
     "data": {
      "text/html": [
       "<div>\n",
       "<style scoped>\n",
       "    .dataframe tbody tr th:only-of-type {\n",
       "        vertical-align: middle;\n",
       "    }\n",
       "\n",
       "    .dataframe tbody tr th {\n",
       "        vertical-align: top;\n",
       "    }\n",
       "\n",
       "    .dataframe thead th {\n",
       "        text-align: right;\n",
       "    }\n",
       "</style>\n",
       "<table border=\"1\" class=\"dataframe\">\n",
       "  <thead>\n",
       "    <tr style=\"text-align: right;\">\n",
       "      <th></th>\n",
       "      <th>id</th>\n",
       "      <th>conversation_id</th>\n",
       "      <th>feedback</th>\n",
       "      <th>timestamp</th>\n",
       "    </tr>\n",
       "  </thead>\n",
       "  <tbody>\n",
       "    <tr>\n",
       "      <th>0</th>\n",
       "      <td>1</td>\n",
       "      <td>d314c573-ac5a-4e1c-b7c6-749aac1c0912</td>\n",
       "      <td>1</td>\n",
       "      <td>2025-10-01 20:32:25.228869+00:00</td>\n",
       "    </tr>\n",
       "    <tr>\n",
       "      <th>1</th>\n",
       "      <td>2</td>\n",
       "      <td>d314c573-ac5a-4e1c-b7c6-749aac1c0912</td>\n",
       "      <td>1</td>\n",
       "      <td>2025-10-01 20:32:29.693069+00:00</td>\n",
       "    </tr>\n",
       "    <tr>\n",
       "      <th>2</th>\n",
       "      <td>3</td>\n",
       "      <td>d314c573-ac5a-4e1c-b7c6-749aac1c0912</td>\n",
       "      <td>1</td>\n",
       "      <td>2025-10-01 20:32:47.966640+00:00</td>\n",
       "    </tr>\n",
       "  </tbody>\n",
       "</table>\n",
       "</div>"
      ],
      "text/plain": [
       "   id                       conversation_id  feedback  \\\n",
       "0   1  d314c573-ac5a-4e1c-b7c6-749aac1c0912         1   \n",
       "1   2  d314c573-ac5a-4e1c-b7c6-749aac1c0912         1   \n",
       "2   3  d314c573-ac5a-4e1c-b7c6-749aac1c0912         1   \n",
       "\n",
       "                         timestamp  \n",
       "0 2025-10-01 20:32:25.228869+00:00  \n",
       "1 2025-10-01 20:32:29.693069+00:00  \n",
       "2 2025-10-01 20:32:47.966640+00:00  "
      ]
     },
     "execution_count": 9,
     "metadata": {},
     "output_type": "execute_result"
    }
   ],
   "source": [
    "pd.read_sql(query, conn)"
   ]
  }
 ],
 "metadata": {
  "kernelspec": {
   "display_name": "PawfectMate-5Jf2huuA",
   "language": "python",
   "name": "python3"
  },
  "language_info": {
   "codemirror_mode": {
    "name": "ipython",
    "version": 3
   },
   "file_extension": ".py",
   "mimetype": "text/x-python",
   "name": "python",
   "nbconvert_exporter": "python",
   "pygments_lexer": "ipython3",
   "version": "3.10.9"
  }
 },
 "nbformat": 4,
 "nbformat_minor": 5
}
